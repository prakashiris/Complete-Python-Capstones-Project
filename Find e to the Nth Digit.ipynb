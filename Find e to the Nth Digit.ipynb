"""

Name : Find e to the Nth Digit
Purpose: Get the values of e to n number of decimal point
Version: Python3
License: MIT

Enter a number and have the program generate e up to that many decimal places.
"""
import math 

def CalcE(roundVal):

		afterE = round(math.e,roundVal);

		return afterE;

roundTo = input('Enter the number of digits you want after the decimal for e: ')
try:
	roundint = int(roundTo);
	print (CalcE(roundint));
except:
	print ("You did not enter an integer");
