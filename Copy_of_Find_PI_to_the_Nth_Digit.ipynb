{
  "nbformat": 4,
  "nbformat_minor": 0,
  "metadata": {
    "colab": {
      "name": "Copy of Find PI to the Nth Digit.ipynb",
      "version": "0.3.2",
      "provenance": [],
      "include_colab_link": true
    },
    "kernelspec": {
      "name": "python3",
      "display_name": "Python 3"
    }
  },
  "cells": [
    {
      "cell_type": "markdown",
      "metadata": {
        "id": "view-in-github",
        "colab_type": "text"
      },
      "source": [
        "<a href=\"https://colab.research.google.com/github/prakashiris/Complete-Python-Capstones-Project/blob/master/Copy_of_Find_PI_to_the_Nth_Digit.ipynb\" target=\"_parent\"><img src=\"https://colab.research.google.com/assets/colab-badge.svg\" alt=\"Open In Colab\"/></a>"
      ]
    },
    {
      "metadata": {
        "id": "zkQ0FCp3iBoJ",
        "colab_type": "code",
        "colab": {}
      },
      "cell_type": "code",
      "source": [
        "\"\"\"\n",
        "Name : Find PI to the Nth Digit\n",
        "Purpose : Get the values of pi to n number of decimal places\n",
        "Version: Python 3\n",
        "License: MIT\n",
        "\n",
        "    Prints out the digits of PI\n",
        "    until it reaches the given limit\n",
        "    \n",
        "    \n",
        "\"\"\"\n",
        "def calcPi(limit):  # Generator function\n",
        "\n",
        "    q, r, t, k, n, l = 1, 0, 1, 1, 3, 3\n",
        "\n",
        "    decimal = limit\n",
        "    counter = 0\n",
        "\n",
        "    while counter != decimal + 1:\n",
        "            if 4 * q + r - t < n * t:\n",
        "                    # yield digit\n",
        "                    yield n\n",
        "                    # insert period after first digit\n",
        "                    if counter == 0:\n",
        "                            yield '.'\n",
        "                    # end\n",
        "                    if decimal == counter:\n",
        "                            print('')\n",
        "                            break\n",
        "                    counter += 1\n",
        "                    nr = 10 * (r - n * t)\n",
        "                    n = ((10 * (3 * q + r)) // t) - 10 * n\n",
        "                    q *= 10\n",
        "                    r = nr\n",
        "                    \n",
        "            else:\n",
        "                    nr = (2 * q + r) * l\n",
        "                    nn = (q * (7 * k) + 2 + (r * l)) // (t * l)\n",
        "                    q *= k\n",
        "                    t *= l\n",
        "                    l += 2\n",
        "                    k += 1\n",
        "                    n = nn\n",
        "                    r = nr\n",
        "                    \n",
        "def main():  # Wrapper function\n",
        "\n",
        "    # Calls CalcPi with the given limit\n",
        "    pi_digits = calcPi(int(input(\"Enter the number of decimals to calculate to: \")))\n",
        "\n",
        "    i = 0\n",
        "\n",
        "    # Prints the output of calcPi generator function\n",
        "    # Inserts a newline after every 40th number\n",
        "    for d in pi_digits:\n",
        "            print(d, end='')\n",
        "            i += 1\n",
        "            if i == 40:\n",
        "                print(\"\")\n",
        "                i = 0\n",
        "\n",
        "if __name__ == '__main__':\n",
        "    main()                    \n",
        "\n"
      ],
      "execution_count": 0,
      "outputs": []
    }
  ]
}