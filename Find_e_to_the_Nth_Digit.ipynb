{
  "nbformat": 4,
  "nbformat_minor": 0,
  "metadata": {
    "colab": {
      "name": "Find e to the Nth Digit.ipynb",
      "version": "0.3.2",
      "provenance": [],
      "include_colab_link": true
    },
    "kernelspec": {
      "name": "python3",
      "display_name": "Python 3"
    }
  },
  "cells": [
    {
      "cell_type": "markdown",
      "metadata": {
        "id": "view-in-github",
        "colab_type": "text"
      },
      "source": [
        "<a href=\"https://colab.research.google.com/github/prakashiris/Complete-Python-Capstones-Project/blob/master/Find_e_to_the_Nth_Digit.ipynb\" target=\"_parent\"><img src=\"https://colab.research.google.com/assets/colab-badge.svg\" alt=\"Open In Colab\"/></a>"
      ]
    },
    {
      "metadata": {
        "id": "6H_1PGT61r6E",
        "colab_type": "code",
        "colab": {
          "base_uri": "https://localhost:8080/",
          "height": 52
        },
        "outputId": "0f33ad46-a456-45e6-a92c-18caa63360fd"
      },
      "cell_type": "code",
      "source": [
        "\"\"\"\n",
        "\n",
        "Name : Find e to the Nth Digit\n",
        "Purpose: Get the values of e to n number of decimal point\n",
        "Version: Python3\n",
        "License: MIT\n",
        "\n",
        "Enter a number and have the program generate e up to that many decimal places.\n",
        "\"\"\"\n",
        "import math \n",
        "\n",
        "def CalcE(roundVal):\n",
        "\n",
        "\t\tafterE = round(math.e,roundVal);\n",
        "\n",
        "\t\treturn afterE;\n",
        "\n",
        "roundTo = input('Enter the number of digits you want after the decimal for e: ')\n",
        "try:\n",
        "\troundint = int(roundTo);\n",
        "\tprint (CalcE(roundint));\n",
        "except:\n",
        "\tprint (\"You did not enter an integer\");\n"
      ],
      "execution_count": 30,
      "outputs": [
        {
          "output_type": "stream",
          "text": [
            "Enter the number of digits you want after the decimal for e: 5\n",
            "2.71828\n"
          ],
          "name": "stdout"
        }
      ]
    },
    {
      "metadata": {
        "id": "8JrGM7dw1tk_",
        "colab_type": "code",
        "colab": {}
      },
      "cell_type": "code",
      "source": [
        ""
      ],
      "execution_count": 0,
      "outputs": []
    }
  ]
}